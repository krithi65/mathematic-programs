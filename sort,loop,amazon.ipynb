{
  "nbformat": 4,
  "nbformat_minor": 0,
  "metadata": {
    "colab": {
      "name": "sort,loop,amazon.ipynb",
      "provenance": [],
      "authorship_tag": "ABX9TyPW06q64i6XfLj5r10tT3QZ",
      "include_colab_link": true
    },
    "kernelspec": {
      "name": "python3",
      "display_name": "Python 3"
    },
    "language_info": {
      "name": "python"
    }
  },
  "cells": [
    {
      "cell_type": "markdown",
      "metadata": {
        "id": "view-in-github",
        "colab_type": "text"
      },
      "source": [
        "<a href=\"https://colab.research.google.com/github/krithi65/mathematic-programs/blob/main/sort%2Cloop%2Camazon.ipynb\" target=\"_parent\"><img src=\"https://colab.research.google.com/assets/colab-badge.svg\" alt=\"Open In Colab\"/></a>"
      ]
    },
    {
      "cell_type": "markdown",
      "source": [
        "1.Write a code to get 2 integers as input and add the integers without any carry."
      ],
      "metadata": {
        "id": "iX0zfWuAgTPG"
      }
    },
    {
      "cell_type": "code",
      "source": [
        "import math\n",
        "result=0\n",
        "multi=1\n",
        "n1,n2=map(int,input( ).split( ))\n",
        "while(n1>0 and n2>0):\n",
        "    result+=multi*((n1+n2)%10)\n",
        "    n1=math.floor(n1/10)\n",
        "    n2=math.floor(n2/10)\n",
        "    multi=multi*10\n",
        "print(result)    "
      ],
      "metadata": {
        "id": "3LZ2nJaKgX3z"
      },
      "execution_count": null,
      "outputs": []
    },
    {
      "cell_type": "markdown",
      "source": [
        "2.Print the sum of the digits of the integer."
      ],
      "metadata": {
        "id": "8aZd2OVbgbCR"
      }
    },
    {
      "cell_type": "code",
      "source": [
        "n = int(input( ))\n",
        "sum = 0\n",
        "for value in str(n):\n",
        "    sum = sum + int(value)\n",
        "print(sum)"
      ],
      "metadata": {
        "id": "mM33E2_qgg7q"
      },
      "execution_count": null,
      "outputs": []
    },
    {
      "cell_type": "markdown",
      "source": [
        "3.get the input and print it 5 times."
      ],
      "metadata": {
        "id": "Mxdrns_egjzR"
      }
    },
    {
      "cell_type": "code",
      "source": [
        "a = int(input( ))\n",
        "for i in range (5):\n",
        "    print(a)"
      ],
      "metadata": {
        "id": "cnrlSu-Igp4e"
      },
      "execution_count": null,
      "outputs": []
    },
    {
      "cell_type": "markdown",
      "source": [
        "4.Print the values from 1 to N in a separate line."
      ],
      "metadata": {
        "id": "FAiAZlL_gsBd"
      }
    },
    {
      "cell_type": "code",
      "source": [
        "n= int(input( ))\n",
        "for i in range(1,n+1):\n",
        "  print(i)\n"
      ],
      "metadata": {
        "id": "q2aOORn_gtcn"
      },
      "execution_count": null,
      "outputs": []
    },
    {
      "cell_type": "markdown",
      "source": [
        "5.Print the digits of the integer in a single line separated by space,"
      ],
      "metadata": {
        "id": "vt_JRrK7g3cA"
      }
    },
    {
      "cell_type": "code",
      "source": [
        "a = input( )\n",
        "digit = []\n",
        "for i in a:\n",
        "    digit.append(i)\n",
        "print(*digit)    \n",
        "    "
      ],
      "metadata": {
        "id": "P93Kz7Kcg_m4"
      },
      "execution_count": null,
      "outputs": []
    },
    {
      "cell_type": "markdown",
      "source": [
        "6.Print the even and odd integers of the integer in a separate line."
      ],
      "metadata": {
        "id": "Jypf_30qhCda"
      }
    },
    {
      "cell_type": "code",
      "source": [
        "n = input( )\n",
        "even_lst = [ ]\n",
        "odd_lst = [ ]\n",
        "for i in n:\n",
        "    if int(i)%2==0:\n",
        "        even_lst.append(i)\n",
        "    else:\n",
        "        odd_lst.append(i)\n",
        "even_lst.sort()\n",
        "odd_lst.sort()\n",
        "print(*even_lst)\n",
        "print(*odd_lst)"
      ],
      "metadata": {
        "id": "ISAaVdo1hIc5"
      },
      "execution_count": null,
      "outputs": []
    },
    {
      "cell_type": "markdown",
      "source": [
        "7.Print the sum of values from 1 to N."
      ],
      "metadata": {
        "id": "UhKh8EnehK5q"
      }
    },
    {
      "cell_type": "code",
      "source": [
        "n = int(input( ))\n",
        "sum = 0\n",
        "for value in range(1, n + 1):\n",
        "    sum = sum + value\n",
        "print(sum)"
      ],
      "metadata": {
        "id": "JRZOqAFrhRMe"
      },
      "execution_count": null,
      "outputs": []
    },
    {
      "cell_type": "markdown",
      "source": [
        "8.Print the integer A, N times in separate line."
      ],
      "metadata": {
        "id": "nurWCoxUhUGn"
      }
    },
    {
      "cell_type": "code",
      "source": [
        "a,n = map (int,input( ).split( ))\n",
        "for i in range(n):\n",
        "    print (a)"
      ],
      "metadata": {
        "id": "6wgXhoUBhcf5"
      },
      "execution_count": null,
      "outputs": []
    },
    {
      "cell_type": "markdown",
      "source": [
        "9.Print the smallest perfect power of 2 greater than n."
      ],
      "metadata": {
        "id": "Q-3OupishfLl"
      }
    },
    {
      "cell_type": "code",
      "source": [
        "n=int(input( ))\n",
        "power=1\n",
        "while n>0:\n",
        "    power=power<<1\n",
        "    n=n>>1\n",
        "print(power)    "
      ],
      "metadata": {
        "id": "gmZQQoighqab"
      },
      "execution_count": null,
      "outputs": []
    },
    {
      "cell_type": "markdown",
      "source": [
        "10.Print the reversed string."
      ],
      "metadata": {
        "id": "kHBGr8DPhsoI"
      }
    },
    {
      "cell_type": "code",
      "source": [
        "a=input()\n",
        "print(a[ ::-1])"
      ],
      "metadata": {
        "id": "3t_DJhfJhxiz"
      },
      "execution_count": null,
      "outputs": []
    },
    {
      "cell_type": "markdown",
      "source": [
        "11.Print the HCF of the integers."
      ],
      "metadata": {
        "id": "PRL_BSy0h0rs"
      }
    },
    {
      "cell_type": "code",
      "source": [
        "x,y=map(int,input().split())\n",
        "if (x>y):\n",
        "    smaller=y\n",
        "else:\n",
        "    smaller=x\n",
        "for i in range(1,smaller+1):\n",
        "    if (x%i==0) and (y%i==0):\n",
        "        hcf=i\n",
        "print(str(hcf))     "
      ],
      "metadata": {
        "id": "XfFdTmk5h0MY"
      },
      "execution_count": null,
      "outputs": []
    },
    {
      "cell_type": "markdown",
      "source": [
        "12.Print the values from N to 1 in a separate line."
      ],
      "metadata": {
        "id": "VhU_IjVKh8bI"
      }
    },
    {
      "cell_type": "code",
      "source": [
        "n= int(input( ))\n",
        "for i in range(n,0,-1):\n",
        "    print (i)"
      ],
      "metadata": {
        "id": "R0aSzt0-iBe4"
      },
      "execution_count": null,
      "outputs": []
    },
    {
      "cell_type": "markdown",
      "source": [
        "13. print the even values from 1 till N in a separate line."
      ],
      "metadata": {
        "id": "jRQApsPbiEGh"
      }
    },
    {
      "cell_type": "code",
      "source": [
        "N = int(input( ))\n",
        "for i in range(1, N+1):\n",
        "     if i%2==0:\n",
        "      print(i)"
      ],
      "metadata": {
        "id": "l6fWPH7QiIYP"
      },
      "execution_count": null,
      "outputs": []
    },
    {
      "cell_type": "markdown",
      "source": [
        "AMAZON:"
      ],
      "metadata": {
        "id": "ZbnSegLKiLED"
      }
    },
    {
      "cell_type": "markdown",
      "source": [
        "1.A ‘majsetic’ array is an array whose sum of first three number is equal to last three number."
      ],
      "metadata": {
        "id": "WcE0JjUsiU0D"
      }
    },
    {
      "cell_type": "code",
      "source": [
        "\n",
        "n=int(input())\n",
        "b=list(map(int,input().split()))\n",
        "c1=b[:3]\n",
        "c2=b[-3:]\n",
        "if(sum(c1)==sum(c2)):\n",
        "   print(1) \n",
        "else:\n",
        "    print(0)\n"
      ],
      "metadata": {
        "id": "CPmE5Zkaig6g"
      },
      "execution_count": null,
      "outputs": []
    },
    {
      "cell_type": "markdown",
      "source": [
        "2.Print 1 if they are anagram else print 0."
      ],
      "metadata": {
        "id": "2osX1FeFikBN"
      }
    },
    {
      "cell_type": "code",
      "source": [
        "s1=input()\n",
        "s2=input()\n",
        "if sorted(s1)==sorted(s2):\n",
        "    print(1)\n",
        "else:\n",
        "    print(0)"
      ],
      "metadata": {
        "id": "WGLDTAJ9iq4y"
      },
      "execution_count": null,
      "outputs": []
    },
    {
      "cell_type": "markdown",
      "source": [
        "3.Find if String2 is substring of String1"
      ],
      "metadata": {
        "id": "sJqn6FkkizX3"
      }
    },
    {
      "cell_type": "code",
      "source": [
        "str1=input()\n",
        "str2=input()\n",
        "if str2 in str1:\n",
        "    index=str1.find(str2)\n",
        "    print(index)\n",
        "else:\n",
        "    print(-1)"
      ],
      "metadata": {
        "id": "bRZiP_v0jDcY"
      },
      "execution_count": null,
      "outputs": []
    },
    {
      "cell_type": "markdown",
      "source": [
        "4.print all permutations of the string in a separate line."
      ],
      "metadata": {
        "id": "dKOiDDwOjFpp"
      }
    },
    {
      "cell_type": "code",
      "source": [
        "import itertools\n",
        "a_string = input()\n",
        "string_permutations = itertools.permutations(a_string)\n",
        "string_permutations = list(string_permutations)\n",
        "string_permutations = [''.join(permutation)for permutation in string_permutations]\n",
        "for l in string_permutations:\n",
        "    print(l)"
      ],
      "metadata": {
        "id": "CFqZklwljJyQ"
      },
      "execution_count": null,
      "outputs": []
    },
    {
      "cell_type": "markdown",
      "source": [
        "SORT:\n"
      ],
      "metadata": {
        "id": "JIJRc6u5jOYo"
      }
    },
    {
      "cell_type": "markdown",
      "source": [
        "1.Matrix sorted in ascending order"
      ],
      "metadata": {
        "id": "TvTIEIa1jbT4"
      }
    },
    {
      "cell_type": "code",
      "source": [
        "(r, c) = map(int, input().split())\n",
        "a = []\n",
        "for i in range(r):\n",
        "     l = [int(x) for x in input().split()]\n",
        "     a.extend(l)\n",
        "a.sort()\n",
        "i = 0\n",
        "for j in range(r):\n",
        "    b = []\n",
        "    for k in range(c):\n",
        "        b.append(a[i])\n",
        "        i += 1\n",
        "    print(*b)"
      ],
      "metadata": {
        "id": "rz5xNdvfjcmp"
      },
      "execution_count": null,
      "outputs": []
    },
    {
      "cell_type": "markdown",
      "source": [
        "2.Sorted list of employee names"
      ],
      "metadata": {
        "id": "5fRycVNQjfe0"
      }
    },
    {
      "cell_type": "code",
      "source": [
        "num=int(input())\n",
        "a=input().split()\n",
        "salary=[]\n",
        "names=[]\n",
        "for i in a:\n",
        "    if i.isdigit():\n",
        "        salary.append(int(i))\n",
        "    else:\n",
        "        names.append(i)\n",
        "#print(names)\n",
        "#print(salary)\n",
        "arrange=sorted(salary)   \n",
        "for i in arrange:\n",
        "    jam=salary.index(i)\n",
        "    print(names[jam])"
      ],
      "metadata": {
        "id": "WD4CAD3Xjlz8"
      },
      "execution_count": null,
      "outputs": []
    },
    {
      "cell_type": "markdown",
      "source": [
        "3.Alphabetically sorted set of strings"
      ],
      "metadata": {
        "id": "-GUcVsi4joVa"
      }
    },
    {
      "cell_type": "code",
      "source": [
        "a=input()\n",
        "companies=list(map(str,input( ).split()))\n",
        "companies.sort()\n",
        "print(*companies)"
      ],
      "metadata": {
        "id": "NHHBRDOWjtvl"
      },
      "execution_count": null,
      "outputs": []
    },
    {
      "cell_type": "markdown",
      "source": [
        "4.Salaries sorted in ascending order."
      ],
      "metadata": {
        "id": "ouqmYO3TjxIn"
      }
    },
    {
      "cell_type": "code",
      "source": [
        "num = int(input())\n",
        "salary = [int(x) for x in input().split()]\n",
        "salary.sort()\n",
        "print(*salary)"
      ],
      "metadata": {
        "id": "1YGrCJq1jySb"
      },
      "execution_count": null,
      "outputs": []
    },
    {
      "cell_type": "markdown",
      "source": [
        "5.If quad ret exists print Yes else print No"
      ],
      "metadata": {
        "id": "DQyxhaeFj5JH"
      }
    },
    {
      "cell_type": "code",
      "source": [
        "n=input()\n",
        "quadret=list(map(int,input().split()))\n",
        "sum=0\n",
        "for i in quadret:\n",
        "    sum=sum+i\n",
        "if sum==1:\n",
        "    print(\"Yes\")\n",
        "else:\n",
        "    print(\"No\")"
      ],
      "metadata": {
        "id": "fA-lgIfykAI5"
      },
      "execution_count": null,
      "outputs": []
    }
  ]
}