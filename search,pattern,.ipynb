{
  "nbformat": 4,
  "nbformat_minor": 0,
  "metadata": {
    "colab": {
      "name": "search,pattern,.ipynb",
      "provenance": [],
      "authorship_tag": "ABX9TyMSIO5bl+6YVFoQK/l2r+LU",
      "include_colab_link": true
    },
    "kernelspec": {
      "name": "python3",
      "display_name": "Python 3"
    },
    "language_info": {
      "name": "python"
    }
  },
  "cells": [
    {
      "cell_type": "markdown",
      "metadata": {
        "id": "view-in-github",
        "colab_type": "text"
      },
      "source": [
        "<a href=\"https://colab.research.google.com/github/krithi65/mathematic-programs/blob/main/search%2Cpattern%2C.ipynb\" target=\"_parent\"><img src=\"https://colab.research.google.com/assets/colab-badge.svg\" alt=\"Open In Colab\"/></a>"
      ]
    },
    {
      "cell_type": "markdown",
      "source": [
        "MICROSOFT:"
      ],
      "metadata": {
        "id": "BVNyd3cUlIGL"
      }
    },
    {
      "cell_type": "markdown",
      "source": [
        "1.Find if String2 is substring of String1"
      ],
      "metadata": {
        "id": "VnwFCFTflMet"
      }
    },
    {
      "cell_type": "code",
      "source": [
        "str1=input()\n",
        "str2=input()\n",
        "if str2 in str1:\n",
        "    index=str1.find(str2)\n",
        "    print(index)\n",
        "else:\n",
        "    print(-1)"
      ],
      "metadata": {
        "id": "KKOkQyTBlZFI"
      },
      "execution_count": null,
      "outputs": []
    },
    {
      "cell_type": "markdown",
      "source": [
        "SEARCH:\n"
      ],
      "metadata": {
        "id": "G5cJ-kRulbWf"
      }
    },
    {
      "cell_type": "markdown",
      "source": [
        "2.Print out the singly occurring number.\n",
        "\n"
      ],
      "metadata": {
        "id": "1qpwLyPslr7f"
      }
    },
    {
      "cell_type": "code",
      "source": [
        "num=int(input())\n",
        "arr =list(map(int,input().split()))\n",
        "for i in arr:\n",
        "    if arr.count(i)<2:\n",
        "     print(i)    "
      ],
      "metadata": {
        "id": "NeiB6Z-flk2m"
      },
      "execution_count": null,
      "outputs": []
    },
    {
      "cell_type": "markdown",
      "source": [
        "3.Print out the singly occurring number. print 0 if no numbers are repeating."
      ],
      "metadata": {
        "id": "cXkkkZU_l0G3"
      }
    },
    {
      "cell_type": "code",
      "source": [
        "num=int(input())\n",
        "arr =list(map(int,input().split()))\n",
        "for i in arr:\n",
        "    if arr.count(i)<2:\n",
        "     print(i)    "
      ],
      "metadata": {
        "id": "esU3uskylpoE"
      },
      "execution_count": null,
      "outputs": []
    },
    {
      "cell_type": "markdown",
      "source": [
        "4.Highest marks obtained by Rajesh."
      ],
      "metadata": {
        "id": "BlczlEf5l9Sq"
      }
    },
    {
      "cell_type": "code",
      "source": [
        "m=int(input())\n",
        "b=list(map(int,input().split()))\n",
        "print(max(b))\n",
        "\n"
      ],
      "metadata": {
        "id": "pbsNdBVWmEG7"
      },
      "execution_count": null,
      "outputs": []
    },
    {
      "cell_type": "markdown",
      "source": [
        "5.whether the given element is present in the matrix or not."
      ],
      "metadata": {
        "id": "PmQIMgXAmG33"
      }
    },
    {
      "cell_type": "code",
      "source": [
        "n,m=map(int,input().split())\n",
        "arr=list(map(int,input().split()))\n",
        "num=int(input())\n",
        "if num in arr:\n",
        "    print(\"yes\")\n",
        "else:\n",
        "    print(\"no\")\n"
      ],
      "metadata": {
        "id": "4zrW4_JpmM8i"
      },
      "execution_count": null,
      "outputs": []
    },
    {
      "cell_type": "markdown",
      "source": [
        "PATTERN:"
      ],
      "metadata": {
        "id": "Ag4_NRUqmQce"
      }
    },
    {
      "cell_type": "markdown",
      "source": [
        "1.Generate a solid rectangle using stars. "
      ],
      "metadata": {
        "id": "tXeTdQlcmTI-"
      }
    },
    {
      "cell_type": "code",
      "source": [
        "def pattern(r, c):\n",
        "    for i in range(1, r+1):\n",
        "        l = []\n",
        "        for j in range(c):\n",
        "            l.append('*')\n",
        "        print(*l)\n",
        "\n",
        "r, c = map(int, input().split())\n",
        "pattern(r, c)"
      ],
      "metadata": {
        "id": "4iXwxAjxmbcN"
      },
      "execution_count": null,
      "outputs": []
    },
    {
      "cell_type": "markdown",
      "source": [
        "2.Write a code to generate a half pyramid number pattern."
      ],
      "metadata": {
        "id": "QVI5u384moer"
      }
    },
    {
      "cell_type": "code",
      "source": [
        "r= int(input( ))\n",
        "for i in range(r,0,-1):\n",
        "    for j in range(1,i+1):\n",
        "        print(j,end='')\n",
        "    print( )  \n"
      ],
      "metadata": {
        "id": "yHsHMyWsmtP8"
      },
      "execution_count": null,
      "outputs": []
    },
    {
      "cell_type": "markdown",
      "source": [
        "3.Print the pyramid pattern using stars based on the given integer R.\n",
        "\n",
        "Sample Input :\n",
        "6\n",
        "Sample Output :\n",
        "     *\n",
        "    **\n",
        "   ***\n",
        "  ****\n",
        " *****\n",
        "******"
      ],
      "metadata": {
        "id": "B4AKYy8kmvve"
      }
    },
    {
      "cell_type": "code",
      "source": [
        "r= int(input( ))\n",
        "for i in range(r):\n",
        "     for j in range(r-i-1):\n",
        "         print(\" \",end=\"\")\n",
        "     for j in range(i+1):\n",
        "            print(\"*\",end=\"\")\n",
        "     print( )  "
      ],
      "metadata": {
        "id": "wFHDdUcwm3gu"
      },
      "execution_count": null,
      "outputs": []
    },
    {
      "cell_type": "markdown",
      "source": [
        "4.generate a half pyramid pattern using numbers."
      ],
      "metadata": {
        "id": "SJ5lcNYXm6W5"
      }
    },
    {
      "cell_type": "code",
      "source": [
        "r = int(input( ))\n",
        "for i in range(1,r+1):\n",
        "    for j in range(1,i+1):\n",
        "        print(i,end ='')\n",
        "    print( )"
      ],
      "metadata": {
        "id": "BQYHx0gCnBX4"
      },
      "execution_count": null,
      "outputs": []
    },
    {
      "cell_type": "markdown",
      "source": [
        "5.Print the half pyramid pattern based on the given integer R.\n",
        "\n",
        "Sample Input :\n",
        "5\n",
        "Sample Output :\n",
        "1\n",
        "12\n",
        "123\n",
        "1234\n",
        "12345"
      ],
      "metadata": {
        "id": "InrVZnrVnD1e"
      }
    },
    {
      "cell_type": "code",
      "source": [
        "r = int(input( ))\n",
        "for i in range(1,r+1):\n",
        "    for j in range(1,i+1):\n",
        "        print(j,end ='')\n",
        "    print( ) "
      ],
      "metadata": {
        "id": "rCdeUxsfnKD6"
      },
      "execution_count": null,
      "outputs": []
    },
    {
      "cell_type": "markdown",
      "source": [
        "6. generate a pyramid pattern using stars from the given input size N."
      ],
      "metadata": {
        "id": "XhUMEX0cnM7w"
      }
    },
    {
      "cell_type": "code",
      "source": [
        "def pattern(n):\n",
        "    for i in range(1, n+1):\n",
        "        l = []\n",
        "        for j in range(i):\n",
        "            l.append('*')\n",
        "        print(*l)\n",
        "        \n",
        "n = int(input())\n",
        "pattern(n)"
      ],
      "metadata": {
        "id": "9qsuaOWCnXcO"
      },
      "execution_count": null,
      "outputs": []
    },
    {
      "cell_type": "markdown",
      "source": [
        "7.Print the solid half diamond pattern based on the given integer R."
      ],
      "metadata": {
        "id": "7OhaFBfenZiE"
      }
    },
    {
      "cell_type": "code",
      "source": [
        "r = int(input( ))\n",
        "for i in range(1,r+1):\n",
        "    for j in range(1,i+1):\n",
        "        print(\"*\",end='')\n",
        "    print( )\n",
        "for i in range(r-1,0,-1):\n",
        "    for j in range(1,i+1):\n",
        "        print(\"*\",end='')\n",
        "    print( )"
      ],
      "metadata": {
        "id": "fhSADDdLnf-W"
      },
      "execution_count": null,
      "outputs": []
    },
    {
      "cell_type": "markdown",
      "source": [
        "8.Print the pyramid pattern using stars based on the given integer R."
      ],
      "metadata": {
        "id": "nI1_avtfniM8"
      }
    },
    {
      "cell_type": "code",
      "source": [
        "def pattern(n):\n",
        "    for i in range(n):\n",
        "        l = []\n",
        "        for j in range(i):\n",
        "            l.append(' ')\n",
        "        for j in range(n-i):\n",
        "            l.append('*')\n",
        "        print(''.join(l))\n",
        "        \n",
        "n = int(input())\n",
        "pattern(n)"
      ],
      "metadata": {
        "id": "9z-jqYMqnn-1"
      },
      "execution_count": null,
      "outputs": []
    },
    {
      "cell_type": "markdown",
      "source": [
        "9.Print the square pattern with the number '1' in R*R form based on the given integer R."
      ],
      "metadata": {
        "id": "K4ccQzMLnrRy"
      }
    },
    {
      "cell_type": "code",
      "source": [
        "r = int(input( ))\n",
        "for i in range(r):\n",
        "    for j in range(r):\n",
        "        print(1,end='')\n",
        "    print( )\n"
      ],
      "metadata": {
        "id": "ZkM6jV3Qnqbs"
      },
      "execution_count": null,
      "outputs": []
    },
    {
      "cell_type": "markdown",
      "source": [
        "10.a code to generate a half pyramid pattern using numbers."
      ],
      "metadata": {
        "id": "j21h1bMtnzeU"
      }
    },
    {
      "cell_type": "code",
      "source": [
        "def pattern(n):\n",
        "    for i in range(n, 0, -1):\n",
        "        for j in range(i, 0, -1):\n",
        "            print(j, end = \"\")\n",
        "        print()\n",
        "n = int(input())\n",
        "pattern(n)"
      ],
      "metadata": {
        "id": "Y8uHClC2n42k"
      },
      "execution_count": null,
      "outputs": []
    },
    {
      "cell_type": "markdown",
      "source": [
        "11.generate a full pyramid pattern using stars."
      ],
      "metadata": {
        "id": "tk3apelIn8gV"
      }
    },
    {
      "cell_type": "code",
      "source": [
        "def pattern(n):\n",
        "    \n",
        "    for i in range(1, n+1):\n",
        "        for j in range(n-i):\n",
        "            print(' ', end = \"\")\n",
        "        l = []\n",
        "        for j in range(i):\n",
        "            l.append('*')\n",
        "        print(*l)\n",
        "n = int(input())\n",
        "pattern(n)"
      ],
      "metadata": {
        "id": "X2gvRVrkoHqk"
      },
      "execution_count": null,
      "outputs": []
    },
    {
      "cell_type": "markdown",
      "source": [
        "12.generate a inverted half pyramid pattern using numbers."
      ],
      "metadata": {
        "id": "KFOqFOyZoKAZ"
      }
    },
    {
      "cell_type": "code",
      "source": [
        "r = int(input( ))\n",
        "for i in range(r,0,-1):\n",
        "    for j in range(1,i+1):\n",
        "        print(j,end='')\n",
        "    print( )"
      ],
      "metadata": {
        "id": "CQAgUidsoQYv"
      },
      "execution_count": null,
      "outputs": []
    },
    {
      "cell_type": "markdown",
      "source": [
        "13.code to generate a half pyramid pattern using numbers."
      ],
      "metadata": {
        "id": "D7DzSYH5oTw3"
      }
    },
    {
      "cell_type": "code",
      "source": [
        "r = int(input( ))\n",
        "for i in range(r,0,-1):\n",
        "    for j in range(1,i+1):\n",
        "        print(i,end='')\n",
        "    print( )\n"
      ],
      "metadata": {
        "id": "pg2dl1hwoc4P"
      },
      "execution_count": null,
      "outputs": []
    },
    {
      "cell_type": "markdown",
      "source": [
        "14.Print the alphabet pyramid pattern according to the given integer R."
      ],
      "metadata": {
        "id": "EeBnSCXEofhn"
      }
    },
    {
      "cell_type": "code",
      "source": [
        "def pattern(n):\n",
        "    c = 65\n",
        "    l = []\n",
        "    for i in range(n):\n",
        "        for j in range(n-i-1):\n",
        "            print(' ', end = \"\")\n",
        "        l.append(chr(c + i))\n",
        "        print(*l)\n",
        "        \n",
        "n = int(input())\n",
        "pattern(n)"
      ],
      "metadata": {
        "id": "Wggx_iYAokpN"
      },
      "execution_count": null,
      "outputs": []
    },
    {
      "cell_type": "markdown",
      "source": [
        "15.Write a code to generate a triangle character pattern."
      ],
      "metadata": {
        "id": "BFQyE5MLoubd"
      }
    },
    {
      "cell_type": "code",
      "source": [
        "def pattern(n):\n",
        "    c = 65\n",
        "    l = []\n",
        "    for i in range(n):\n",
        "        for j in range(n-i-1):\n",
        "            print(' ', end = \"\")\n",
        "        l.append(chr(c + i))\n",
        "        print(*l)\n",
        "        \n",
        "n = int(input())\n",
        "pattern(n)"
      ],
      "metadata": {
        "id": "mIVzsLt7o7CI"
      },
      "execution_count": null,
      "outputs": []
    },
    {
      "cell_type": "markdown",
      "source": [
        "16.Print the solid rhombus using stars with the size R."
      ],
      "metadata": {
        "id": "Whmw4UCspBy1"
      }
    },
    {
      "cell_type": "code",
      "source": [
        "def pattern(n):\n",
        "    for i in range(1, n+1):\n",
        "        for j in range(n-i):\n",
        "            print(' ', end = \"\")\n",
        "        if i == 1 or i == n: print('*' * n)\n",
        "        else:\n",
        "            s = '*'\n",
        "            s += ' ' * (n-2)\n",
        "            s += '*'\n",
        "            print(s)\n",
        "n = int(input())\n",
        "pattern(n)"
      ],
      "metadata": {
        "id": "VQgtTyblpDqQ"
      },
      "execution_count": null,
      "outputs": []
    },
    {
      "cell_type": "markdown",
      "source": [
        "17.Print the star inverted pyramid with the given integer R."
      ],
      "metadata": {
        "id": "x-yzlEZrpGGR"
      }
    },
    {
      "cell_type": "code",
      "source": [
        "def pattern(n):\n",
        "    for i in range(n):\n",
        "        a=[]\n",
        "        for j in range(n-i):\n",
        "            a.append(\"*\")\n",
        "        print('  '.join(a))\n",
        "    \n",
        "n = int(input())\n",
        "pattern(n)"
      ],
      "metadata": {
        "id": "eJwu-UuQpMkv"
      },
      "execution_count": null,
      "outputs": []
    },
    {
      "cell_type": "markdown",
      "source": [
        ""
      ],
      "metadata": {
        "id": "AbrxQrGhpO4N"
      }
    }
  ]
}