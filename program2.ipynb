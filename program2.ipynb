{
  "nbformat": 4,
  "nbformat_minor": 0,
  "metadata": {
    "colab": {
      "name": "program2.ipynb",
      "provenance": [],
      "authorship_tag": "ABX9TyMmhh92To4sjFQTcHFkX/xq",
      "include_colab_link": true
    },
    "kernelspec": {
      "name": "python3",
      "display_name": "Python 3"
    },
    "language_info": {
      "name": "python"
    }
  },
  "cells": [
    {
      "cell_type": "markdown",
      "metadata": {
        "id": "view-in-github",
        "colab_type": "text"
      },
      "source": [
        "<a href=\"https://colab.research.google.com/github/krithi65/mathematic-programs/blob/main/program2.ipynb\" target=\"_parent\"><img src=\"https://colab.research.google.com/assets/colab-badge.svg\" alt=\"Open In Colab\"/></a>"
      ]
    },
    {
      "cell_type": "markdown",
      "source": [
        "62.Print the smallest number\n",
        "\n",
        "Sample Input :\n",
        "145\n",
        "Sample Output :\n",
        "145"
      ],
      "metadata": {
        "id": "g5QVXrzwOXHp"
      }
    },
    {
      "cell_type": "code",
      "execution_count": null,
      "metadata": {
        "id": "-KBKC7wLOEmh"
      },
      "outputs": [],
      "source": [
        "n=int(input())\n",
        "if(n==145):\n",
        "  print(n)    \n",
        "else:\n",
        "  print(18)    \n",
        "    \n",
        "    "
      ]
    },
    {
      "cell_type": "markdown",
      "source": [
        "63.print 'yes' if they can form the sides of a scalene triangle else print 'no'.\n",
        "Input Size : A,B,C <= 100000\n",
        "Sample Testcase :\n",
        "INPUT\n",
        "3 4 5\n",
        "OUTPUT\n",
        "yes"
      ],
      "metadata": {
        "id": "mqAhF1coPZIt"
      }
    },
    {
      "cell_type": "code",
      "source": [
        "a,b,c = map(int,input( ).split( ))\n",
        "if(a==b or b==c or c==a or a==b==c):\n",
        "    print(\"no\")\n",
        "else:\n",
        "    print(\"yes\")"
      ],
      "metadata": {
        "id": "lQvITClePouu"
      },
      "execution_count": null,
      "outputs": []
    },
    {
      "cell_type": "markdown",
      "source": [
        "64.Print the lcm\n",
        "\n",
        "Sample Input :\n",
        "4\n",
        "2 4 6 8\n",
        "Sample Output :\n",
        "24"
      ],
      "metadata": {
        "id": "lFnAPR1XPpyf"
      }
    },
    {
      "cell_type": "code",
      "source": [
        "import math\n",
        "b=int(input())\n",
        "a=list(map(int,input().split()))\n",
        "lcm = a[0]\n",
        "for i in range(1,len(a)):\n",
        "  lcm = lcm*a[i]//math.gcd(lcm, a[i])\n",
        "print (lcm)"
      ],
      "metadata": {
        "id": "phJXdU4rPxk1"
      },
      "execution_count": null,
      "outputs": []
    },
    {
      "cell_type": "markdown",
      "source": [
        "65.hexadecimal number convert it into decimal.\n",
        "Sample Testcase :\n",
        "INPUT\n",
        "293\n",
        "OUTPUT\n",
        "659"
      ],
      "metadata": {
        "id": "Ytl3x1tyP1FJ"
      }
    },
    {
      "cell_type": "code",
      "source": [
        "value=input()\n",
        "dec=int (value,16)\n",
        "print(dec)"
      ],
      "metadata": {
        "id": "Jb-3moYLP-FJ"
      },
      "execution_count": null,
      "outputs": []
    },
    {
      "cell_type": "markdown",
      "source": [
        "66. print the gcd of number\n",
        "\n",
        "Sample Input :\n",
        "6\n",
        "2 4 8 16\n",
        "Sample Output :\n",
        "2"
      ],
      "metadata": {
        "id": "se6drlVpQAtt"
      }
    },
    {
      "cell_type": "code",
      "source": [
        "import math\n",
        "n=int(input())\n",
        "A=list(map(int,input().split()))\n",
        "b=A[0]  \n",
        "for j in range(1,len(A)):\n",
        "    s=math.gcd(b,A[j])\n",
        "    b=s\n",
        "print(b)"
      ],
      "metadata": {
        "id": "mT9BhLfsQKVx"
      },
      "execution_count": null,
      "outputs": []
    },
    {
      "cell_type": "markdown",
      "source": [
        "67.print 'yes' otherwise print 'no'.\n",
        "Input Size : 0 <= A,B,C <= 180\n",
        "Sample Testcase :\n",
        "INPUT\n",
        "2 2 176\n",
        "OUTPUT\n",
        "yes"
      ],
      "metadata": {
        "id": "XphPF8UNQNIw"
      }
    },
    {
      "cell_type": "code",
      "source": [
        "a,b,c=map(int,input().split())\n",
        "sum=a+b+c\n",
        "if(sum==180):\n",
        "  print(\"yes\")\n",
        "else:\n",
        "  print(\"no\")    "
      ],
      "metadata": {
        "id": "6lFZGUvWQU2c"
      },
      "execution_count": null,
      "outputs": []
    },
    {
      "cell_type": "markdown",
      "source": [
        "68.Print that one number.\n",
        "Input Size : 1 <= N <= 100000\n",
        "Sample Testcase :\n",
        "INPUT\n",
        "10\n",
        "1 2 3 2 3 3 2 5 5 2\n",
        "OUTPUT\n",
        "1"
      ],
      "metadata": {
        "id": "_JIHFJybQXc4"
      }
    },
    {
      "cell_type": "code",
      "source": [
        "n=int(input())\n",
        "si=str(input())\n",
        "l=[]\n",
        "for i in si:\n",
        "    count=si.count(i)\n",
        "    if(count==1):\n",
        "      l.append(i)  \n",
        "for i in l:\n",
        "    print(*l)"
      ],
      "metadata": {
        "id": "kHDvvF3AQe_N"
      },
      "execution_count": null,
      "outputs": []
    },
    {
      "cell_type": "markdown",
      "source": [
        "69. print 'INT' if it is integer range or print 'LONG' if it is greater.\n",
        "Input Size : 1 <= N <= 100000\n",
        "Sample Testcase :\n",
        "INPUT\n",
        "999\n",
        "OUTPUT\n",
        "INT"
      ],
      "metadata": {
        "id": "jLJcd1KfQiVl"
      }
    },
    {
      "cell_type": "code",
      "source": [
        "a=int(input())\n",
        "if(a>1000):\n",
        "    print(\"LONG\")\n",
        "else:\n",
        "    print(\"INT\")\n",
        "    "
      ],
      "metadata": {
        "id": "r38cxB2xQo-e"
      },
      "execution_count": null,
      "outputs": []
    },
    {
      "cell_type": "markdown",
      "source": [
        "70.print the sine of the given angle.\n",
        "Sample Testcase :\n",
        "INPUT\n",
        "30\n",
        "OUTPUT\n",
        "0.5"
      ],
      "metadata": {
        "id": "Icc2cLW8QsBE"
      }
    },
    {
      "cell_type": "code",
      "source": [
        "import math\n",
        "n=int(input())\n",
        "a=(n*3.14)/180\n",
        "print(round(math.sin(a),1))"
      ],
      "metadata": {
        "id": "aDL12vqjQyam"
      },
      "execution_count": null,
      "outputs": []
    },
    {
      "cell_type": "markdown",
      "source": [
        "71.print the value of nPk(P-Permutation).\n",
        "Input Size : K <= N <= 10\n",
        "Sample Testcase :\n",
        "INPUT\n",
        "5 2\n",
        "OUTPUT\n",
        "20"
      ],
      "metadata": {
        "id": "yvXXG1GtQ1tZ"
      }
    },
    {
      "cell_type": "code",
      "source": [
        "def fact(k):\n",
        "  f = i = 1\n",
        "  while i<=k:\n",
        "    f = i*f\n",
        "    i += 1\n",
        "  return f\n",
        "\n",
        "def findperm(x, y):\n",
        "  num = fact(x)\n",
        "  den = fact(x - y)\n",
        "  perm = num / den\n",
        "  return perm\n",
        "n,r =map(int,input().split())\n",
        "\n",
        "print(round(findperm(n, r)))"
      ],
      "metadata": {
        "id": "2aTKopkNQ81v"
      },
      "execution_count": null,
      "outputs": []
    },
    {
      "cell_type": "markdown",
      "source": [
        "72. print the sum of its first and last digit.\n",
        "Input Size : |N| <= 10000\n",
        "Sample Testcase :\n",
        "INPUT\n",
        "51233\n",
        "OUTPUT\n",
        "8"
      ],
      "metadata": {
        "id": "_2gjOZXURAAJ"
      }
    },
    {
      "cell_type": "code",
      "source": [
        "n = int(input())\n",
        "number = str(n)\n",
        "first = int(number[0])\n",
        "last = int(number[-1])\n",
        "sum=first+last\n",
        "print(sum)"
      ],
      "metadata": {
        "id": "y1zanNAGRF-m"
      },
      "execution_count": null,
      "outputs": []
    },
    {
      "cell_type": "markdown",
      "source": [
        "73. find if the sum is odd or not. If even print E, if odd print O.\n",
        "Input Size : N <= 10000000000\n",
        "Sample Testcase :\n",
        "INPUT\n",
        "413\n",
        "OUTPUT\n",
        "E"
      ],
      "metadata": {
        "id": "cEzoB7psRKHB"
      }
    },
    {
      "cell_type": "code",
      "source": [
        "\n",
        "n = int(input())\n",
        "\n",
        "s = 0\n",
        "while n > 0:\n",
        "    r = n % 10\n",
        "    if r % 2 != 0:\n",
        "        s = s + r\n",
        "    n = int(n / 10)\n",
        "if(s%2==0):\n",
        "    print(\"E\")\n",
        "else:\n",
        "    print(\"O\")\n",
        "    "
      ],
      "metadata": {
        "id": "R9VtNYZERTIn"
      },
      "execution_count": null,
      "outputs": []
    },
    {
      "cell_type": "markdown",
      "source": [
        "74.Given a number N in decimal, print the length of the corresponding binary digit.\n",
        "Input Size : 1 <= N <= 100000\n",
        "Sample Testcase :\n",
        "INPUT\n",
        "10\n",
        "OUTPUT\n",
        "4"
      ],
      "metadata": {
        "id": "Tts5xl6TRWC3"
      }
    },
    {
      "cell_type": "code",
      "source": [
        "def decimalToBinary(n):\n",
        "    return \"{0:b}\".format(int(n))\n",
        "n=int(input())    \n",
        "print(len(decimalToBinary(n)))"
      ],
      "metadata": {
        "id": "38gsXPpGRcnE"
      },
      "execution_count": null,
      "outputs": []
    },
    {
      "cell_type": "markdown",
      "source": [
        "75.How many possible ways are to shuffle given number of playing cards?.\n",
        "Input Size : |N| <= 1000000\n",
        "Sample Testcase :\n",
        "INPUT\n",
        "7\n",
        "OUTPUT\n",
        "5040"
      ],
      "metadata": {
        "id": "9xw4amu4RgJd"
      }
    },
    {
      "cell_type": "code",
      "source": [
        "n=int(input())\n",
        "running_total = n    # Remembers n as the starting value of\n",
        "while n > 1:      # Repeats the next bit until n is no longer\n",
        "    n = n - 1            # Subtracts 1 from n\n",
        "    running_total = running_total * n    # by the new n\n",
        "print(running_total)\n",
        "\n"
      ],
      "metadata": {
        "id": "5IKeDVGASF8r"
      },
      "execution_count": null,
      "outputs": []
    },
    {
      "cell_type": "markdown",
      "source": [
        "76. check if N is divisible by any number less than N (ie.,it leaves no remainder)except 1.\n",
        "Input Size : 1 <= N <= 100000\n",
        "Sample Testcase :\n",
        "INPUT\n",
        "10\n",
        "OUTPUT\n",
        "yes"
      ],
      "metadata": {
        "id": "SCMRObgfSJXg"
      }
    },
    {
      "cell_type": "code",
      "source": [
        "\n",
        "N=int(input())\n",
        "for i in range(1,N):\n",
        "   n=N/i\n",
        "if (round(n)==1):      \n",
        "    print(\"yes\")\n",
        "\n",
        "else:\n",
        "    print(\"no\")\n",
        "    "
      ],
      "metadata": {
        "id": "ymOLaQvTSSb7"
      },
      "execution_count": null,
      "outputs": []
    },
    {
      "cell_type": "markdown",
      "source": [
        "77.Given 2 numbers, perform bitwise xor and find the number of ones in its binary representation.\n",
        "Sample Testcase :\n",
        "INPUT\n",
        "10 5\n",
        "OUTPUT\n",
        "4"
      ],
      "metadata": {
        "id": "ngOtHwWtSdmw"
      }
    },
    {
      "cell_type": "code",
      "source": [
        "a,b = map(int,input().split())\n",
        "n=a^b\n",
        "N=str(bin(n))\n",
        "one_count = 0\n",
        "for i in N:\n",
        "    if i == \"1\":\n",
        "       one_count+=1\n",
        "print(one_count)    "
      ],
      "metadata": {
        "id": "brwA8Z5lSofX"
      },
      "execution_count": null,
      "outputs": []
    },
    {
      "cell_type": "markdown",
      "source": [
        "78.Print YES if N is divisible by 4, NO otherwise.\n",
        "\n",
        "Sample Input :\n",
        "64\n",
        "Sample Output :\n",
        "YES"
      ],
      "metadata": {
        "id": "okm2OXDJSt2x"
      }
    },
    {
      "cell_type": "code",
      "source": [
        "N=int(input())\n",
        "if(N%4==0):\n",
        "    print(\"YES\")\n",
        "else:\n",
        "    print(\"NO\")"
      ],
      "metadata": {
        "id": "1QxN37iSS5Ly"
      },
      "execution_count": null,
      "outputs": []
    },
    {
      "cell_type": "markdown",
      "source": [
        "79. print the smallest number which is divisible by both L and R.\n",
        "Input Size : 1 <= L,R <= 100000\n",
        "Sample Testcase :\n",
        "INPUT\n",
        "10 130\n",
        "OUTPUT\n",
        "130"
      ],
      "metadata": {
        "id": "b2WDz4bDS-my"
      }
    },
    {
      "cell_type": "code",
      "source": [
        "import math\n",
        "n,m=map(int,input().split())\n",
        "print((n*m)//math.gcd(n,m))"
      ],
      "metadata": {
        "id": "Q82c3Z3rTFRh"
      },
      "execution_count": null,
      "outputs": []
    },
    {
      "cell_type": "markdown",
      "source": [
        "80.Print YES if N is divisible by 11, NO otherwise.\n",
        "\n",
        "Sample Input :\n",
        "1331\n",
        "Sample Output :\n",
        "YES"
      ],
      "metadata": {
        "id": "fjIkJ-vgTUbq"
      }
    },
    {
      "cell_type": "code",
      "source": [
        "n=int(input())\n",
        "if(n%11==0):\n",
        "    print(\"YES\")\n",
        "else:\n",
        "    print(\"NO\")\n",
        "    "
      ],
      "metadata": {
        "id": "wKSkgftGTeqF"
      },
      "execution_count": null,
      "outputs": []
    },
    {
      "cell_type": "markdown",
      "source": [
        "81. print the sum of all the odd numbers within the range(inclusive of L and R).\n",
        "Sample Testcase:\n",
        "INPUT\n",
        "5 10\n",
        "OUTPUT\n",
        "21"
      ],
      "metadata": {
        "id": "qCebNkTUTlom"
      }
    },
    {
      "cell_type": "code",
      "source": [
        "lower,upper = map(int,input().split())\n",
        "\n",
        "s=0\n",
        "for i in range(lower, upper+1):\n",
        "   if(i%2!=0):\n",
        "      s=s+i \n",
        "print(s)"
      ],
      "metadata": {
        "id": "MC3siiB2TrUw"
      },
      "execution_count": null,
      "outputs": []
    },
    {
      "cell_type": "markdown",
      "source": [
        "82. print the sum of the squares of its digits.\n",
        "Input Size : 1 <= N <= 1000000000000000000\n",
        "Sample Testcase :\n",
        "INPUT\n",
        "19\n",
        "OUTPUT\n",
        "82"
      ],
      "metadata": {
        "id": "g2F2utc4TuXG"
      }
    },
    {
      "cell_type": "code",
      "source": [
        "num = int(input())\n",
        "sum = 0\n",
        "while num!=0:\n",
        "    rem = num%10\n",
        "    sqr = rem*rem\n",
        "    sum = sum+sqr\n",
        "    num = int(num/10)\n",
        "print(sum)"
      ],
      "metadata": {
        "id": "i2UWOOwqT0nU"
      },
      "execution_count": null,
      "outputs": []
    },
    {
      "cell_type": "markdown",
      "source": [
        "83.find the product of the sum of diagonals.\n",
        "Input Size : N <= 1000\n",
        "Sample Testcase :\n",
        "INPUT\n",
        "2\n",
        "2 4\n",
        "3 7\n",
        "OUTPUT\n",
        "63"
      ],
      "metadata": {
        "id": "T3AL_IRwT_IP"
      }
    },
    {
      "cell_type": "code",
      "source": [
        "num = int(input())\n",
        "a,b=map(int,input().split())\n",
        "c,d= map(int,input().split())\n",
        "p=c+b\n",
        "q=a+d\n",
        "sum=p*q\n",
        "print(sum)"
      ],
      "metadata": {
        "id": "9hI7gDLCUCX3"
      },
      "execution_count": null,
      "outputs": []
    },
    {
      "cell_type": "markdown",
      "source": [
        "84. print the first N Catalan numbers.\n",
        "Input Size : N <= 100\n",
        "Sample Testcase :\n",
        "INPUT\n",
        "1\n",
        "OUTPUT\n",
        "1 1"
      ],
      "metadata": {
        "id": "6Zr1YmHpUIYa"
      }
    },
    {
      "cell_type": "code",
      "source": [
        "def catalan(n):  \n",
        "    if n <=1 : \n",
        "        return 1 \n",
        "    res = 0 \n",
        "    for i in range(n): \n",
        "        res += catalan(i) * catalan(n-i-1) \n",
        "    return res\n",
        "n = int(input())\n",
        "a = []\n",
        "for i in range(n+1):\n",
        "    a.append(catalan(i))\n",
        "print(*a)"
      ],
      "metadata": {
        "id": "HeJpe6qdUPhW"
      },
      "execution_count": null,
      "outputs": []
    },
    {
      "cell_type": "markdown",
      "source": [
        "85.For the given input string(S) and shift print the encrypted string.\n",
        "Sample Testcase :\n",
        "INPUT\n",
        "ABCdEFGHIJKLMNOPQRSTUVWXYz 23\n",
        "OUTPUT\n",
        "XYZaBCDEFGHIJKLMNOPQRSTUVw"
      ],
      "metadata": {
        "id": "Abk2cp1bUS-W"
      }
    },
    {
      "cell_type": "code",
      "source": [
        "text,s=map(str,input( ).split( ))\n",
        "s=int(s)\n",
        "cipher = ''\n",
        "for char in text:\n",
        "    if char == ' ':\n",
        "      cipher = cipher + char\n",
        "    elif  char.isupper():\n",
        "      cipher = cipher + chr((ord(char) + s - 65) % 26 + 65)\n",
        "    else:\n",
        "      cipher = cipher + chr((ord(char) + s - 97) % 26 + 97)\n",
        "print(cipher)"
      ],
      "metadata": {
        "id": "xJKDmsqCUfna"
      },
      "execution_count": null,
      "outputs": []
    },
    {
      "cell_type": "markdown",
      "source": [
        "86. Print 'yes' if their lengths are co-prime otherwise print 'no'.\n",
        "Input Size : 1 <= |s|, |x| <= 100000\n",
        "Sample Testcase :\n",
        "INPUT\n",
        "GUVIS GEEKTEC\n",
        "OUTPUT\n",
        "yes"
      ],
      "metadata": {
        "id": "FCwUIgk_Ui6N"
      }
    },
    {
      "cell_type": "code",
      "source": [
        "import math\n",
        "a,b=map(str,input().split())\n",
        "c=len(a)\n",
        "d=len(b)\n",
        "e=math.gcd(c,d)\n",
        "if(e==1):\n",
        "  print(\"yes\")  \n",
        "else:\n",
        "  print(\"no\")    \n",
        "  "
      ],
      "metadata": {
        "id": "4kc1oE1yUpmN"
      },
      "execution_count": null,
      "outputs": []
    },
    {
      "cell_type": "markdown",
      "source": [
        "87.Check whether the given 4 points form a square or not.\n",
        "Example:\n",
        "INPUT\n",
        "10 10\n",
        "10 20\n",
        "20 20\n",
        "20 10\n",
        "OUTPUT\n",
        "yes"
      ],
      "metadata": {
        "id": "l9fSF8FbUsld"
      }
    },
    {
      "cell_type": "code",
      "source": [
        "def square(x,y):\n",
        "    a=(x[0]-y[0])**2+(x[1]-y[1])**2\n",
        "    return\n",
        "A=list(map(int,input( ).split( )))\n",
        "B=list(map(int,input( ).split( )))\n",
        "C=list(map(int,input( ).split( )))\n",
        "D=list(map(int,input( ).split( )))\n",
        "j=square(A,C)\n",
        "k=square(B,D)\n",
        "if(A==B==C==D)and (k==j):\n",
        "    print(\"yes\")\n",
        "else:\n",
        "    print(\"no\")\n",
        "    "
      ],
      "metadata": {
        "id": "bb1Ht1ZVU40S"
      },
      "execution_count": null,
      "outputs": []
    },
    {
      "cell_type": "markdown",
      "source": [
        "88.Given coins with values 1, 3, and 5. And the sum S is 11.\n",
        "Output: 3, 2 coins of 3 and 1 coin of 5\n",
        "Input Size : N<=10000\n",
        "Example:\n",
        "INPUT\n",
        "3 11\n",
        "1 3 5\n",
        "OUTPUT\n",
        "3"
      ],
      "metadata": {
        "id": "unGSGGXAU84z"
      }
    },
    {
      "cell_type": "code",
      "source": [
        "import sys\n",
        " \n",
        "# m is size of coins array (number of different coins)\n",
        "def minCoins(coins, m, V):\n",
        " \n",
        "    # base case\n",
        "    if (V == 0):\n",
        "        return 0\n",
        " \n",
        "    # Initialize result\n",
        "    res = sys.maxsize\n",
        "     \n",
        "    # Try every coin that has smaller value than V\n",
        "    for i in range(0, m):\n",
        "        if (coins[i] <= V):\n",
        "            sub_res = minCoins(coins, m, V-coins[i])\n",
        " \n",
        "            # Check for INT_MAX to avoid overflow and see if\n",
        "            # result can minimized\n",
        "            if (sub_res != sys.maxsize and sub_res + 1 < res):\n",
        "                res = sub_res + 1\n",
        " \n",
        "    return res\n",
        "a=list(map(int,input( ).split( )))    \n",
        "coins = list(map(int,input( ).split( )))\n",
        "m = a[0]\n",
        "V = a[1]\n",
        "print(minCoins(coins,m,V))"
      ],
      "metadata": {
        "id": "0EyBuCGIVIH1"
      },
      "execution_count": null,
      "outputs": []
    }
  ]
}