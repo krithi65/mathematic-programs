{
  "nbformat": 4,
  "nbformat_minor": 0,
  "metadata": {
    "colab": {
      "name": "programs.ipynb",
      "provenance": [],
      "authorship_tag": "ABX9TyNCKpSrtGdtID2FYPb1VGUO",
      "include_colab_link": true
    },
    "kernelspec": {
      "name": "python3",
      "display_name": "Python 3"
    },
    "language_info": {
      "name": "python"
    }
  },
  "cells": [
    {
      "cell_type": "markdown",
      "metadata": {
        "id": "view-in-github",
        "colab_type": "text"
      },
      "source": [
        "<a href=\"https://colab.research.google.com/github/krithi65/mathematic-programs/blob/main/programs.ipynb\" target=\"_parent\"><img src=\"https://colab.research.google.com/assets/colab-badge.svg\" alt=\"Open In Colab\"/></a>"
      ]
    },
    {
      "cell_type": "markdown",
      "source": [
        "1.Print the count of all palindromic numbers till ‘n’(inclusive)\n",
        "\n",
        "Sample Input :\n",
        "5\n",
        "Sample Output :\n",
        "5"
      ],
      "metadata": {
        "id": "3vKeHEXwEFe3"
      }
    },
    {
      "cell_type": "code",
      "source": [
        "n= int(input( ))\n",
        "count=0\n",
        "for i in range(1,n+1):\n",
        "    i=str(i)\n",
        "    if i==i[::-1]:\n",
        "     count+=1\n",
        "print(count)     "
      ],
      "metadata": {
        "id": "_yNPaDRNEL3C"
      },
      "execution_count": null,
      "outputs": []
    },
    {
      "cell_type": "markdown",
      "source": [
        "2.Find the minimum among 10 numbers.\n",
        "Sample Testcase :\n",
        "INPUT\n",
        "5 4 3 2 1 7 6 10 8 9\n",
        "OUTPUT\n",
        "1"
      ],
      "metadata": {
        "id": "G5-6JFgyEO1e"
      }
    },
    {
      "cell_type": "code",
      "source": [
        "arr = list(map(int,input( ).split( )))\n",
        "print(min(arr))"
      ],
      "metadata": {
        "id": "KwGig1OdEac_"
      },
      "execution_count": null,
      "outputs": []
    },
    {
      "cell_type": "markdown",
      "source": [
        "3.Print yes if it is pure else not\n",
        "\n",
        "Sample Input :\n",
        "13\n",
        "Sample Output :\n",
        "not"
      ],
      "metadata": {
        "id": "wVp9_68KEdRC"
      }
    },
    {
      "cell_type": "code",
      "source": [
        "str1 = input()\n",
        "sum=0\n",
        "for digits in str1:\n",
        "    sum+=int(digits)\n",
        "if(sum%3==0):\n",
        "    print(\"pure\")\n",
        "else:\n",
        "    print(\"not\")"
      ],
      "metadata": {
        "id": "HFv29jpdEkth"
      },
      "execution_count": null,
      "outputs": []
    },
    {
      "cell_type": "markdown",
      "source": [
        "4.Print the engine number\n",
        "\n",
        "Sample Input :\n",
        "HR05-AA-2669\n",
        "Sample Output :\n",
        "28"
      ],
      "metadata": {
        "id": "1Un8OYgFEl2-"
      }
    },
    {
      "cell_type": "code",
      "source": [
        "a=input()\n",
        "sum= 0\n",
        "for x in a:\n",
        "    if x.isdigit():\n",
        "        z = int(x)\n",
        "        sum = sum + z\n",
        "print(sum)\n",
        "    "
      ],
      "metadata": {
        "id": "yJvZHoUrEsYn"
      },
      "execution_count": null,
      "outputs": []
    },
    {
      "cell_type": "markdown",
      "source": [
        "5.the total unit of Air encapsulated between the walls of chamber.\n",
        "\n",
        "Sample Input :\n",
        "3\n",
        "7 4 9\n",
        "Sample Output :\n",
        "3"
      ],
      "metadata": {
        "id": "HolsDm66EvGX"
      }
    },
    {
      "cell_type": "code",
      "source": [
        "n =int(input())\n",
        "l = [int(x) for x in input().split()]\n",
        "ans = 0\n",
        "for i in range(1, len(l)-1):\n",
        "    if l[i] < l[i-1] and l[i] < l[i+1]:\n",
        "        ans += min(l[i+1], l[i-1]) - l[i]\n",
        "print(ans)"
      ],
      "metadata": {
        "id": "g3qQ36WTE1G3"
      },
      "execution_count": null,
      "outputs": []
    },
    {
      "cell_type": "markdown",
      "source": [
        "6.Print the max no of consecutive 1 in the number\n",
        "\n",
        "Sample Input :\n",
        "101011111\n",
        "Sample Output :\n",
        "5"
      ],
      "metadata": {
        "id": "nIVvpiH8E34T"
      }
    },
    {
      "cell_type": "code",
      "source": [
        "\n",
        "def getMaxLength(x, n):\n",
        "\n",
        "\t\n",
        "\tcount = 0\n",
        "\tresult = 0\n",
        "\n",
        "\tfor i in range(0, n):\n",
        "\t\tif (x[i] == 0):\n",
        "\t\t\tcount = 0\n",
        "    \n",
        "\t\t\n",
        "\t\telse:\n",
        "\t\t\t\n",
        "\t\t\t\n",
        "\t\t\tcount+= 1\n",
        "\t\t\tresult = max(result, count)\n",
        "\t\t\n",
        "\treturn result\n",
        "num=input()\n",
        "x=[int(a) for a in str(num)]\n",
        "n = len(x)\n",
        "if(getMaxLength(x, n)>1):\n",
        "    print(getMaxLength(x,n))\n",
        "else:\n",
        "    print(-1)"
      ],
      "metadata": {
        "id": "73_F-UNgE8Oz"
      },
      "execution_count": null,
      "outputs": []
    },
    {
      "cell_type": "markdown",
      "source": [
        "7.Print 1 if the ticket is eligible for discount else 0\n",
        "\n",
        "Sample Input :\n",
        "6\n",
        "112 139 165 175 262 130\n",
        "22\n",
        "Sample Output :\n",
        "0 0 0 0 0 0"
      ],
      "metadata": {
        "id": "u61e3c5bE_Hg"
      }
    },
    {
      "cell_type": "code",
      "source": [
        "\n",
        "n=int(input())\n",
        "arr=list(map(int,input().split()))\n",
        "month=int(input())\n",
        "a=[]\n",
        "for i in range(len(arr)):\n",
        "    if arr[i]%month==0:\n",
        "        a.append(1)\n",
        "    else:\n",
        "        a.append(0)\n",
        "print(*a)        \n",
        "        "
      ],
      "metadata": {
        "id": "dNQDr-svFNcw"
      },
      "execution_count": null,
      "outputs": []
    },
    {
      "cell_type": "markdown",
      "source": [
        "8.Print Saturated if it is saturated else it is Unsaturated\n",
        "\n",
        "Sample Input :\n",
        "121\n",
        "Sample Output :\n",
        "Saturated"
      ],
      "metadata": {
        "id": "a5logAHMFQCc"
      }
    },
    {
      "cell_type": "code",
      "source": [
        "count=0\n",
        "digit=input()\n",
        "for i in range(len(digit)):\n",
        "    if digit[i]==digit:\n",
        "       count+=1\n",
        "print(\"Saturated\")\n",
        "        \n"
      ],
      "metadata": {
        "id": "KH07B26pFVPI"
      },
      "execution_count": null,
      "outputs": []
    },
    {
      "cell_type": "markdown",
      "source": [
        "9.Given 3 numbers a,b,c print a*b mod c.\n",
        "Sample Testcase :\n",
        "INPUT\n",
        "5 3 2\n",
        "OUTPUT\n",
        "1"
      ],
      "metadata": {
        "id": "ErYvkGBLFXSJ"
      }
    },
    {
      "cell_type": "code",
      "source": [
        "a,b,c=map(int,input().split())\n",
        "d=a*b\n",
        "e=d%c\n",
        "print(e)"
      ],
      "metadata": {
        "id": "5R-j4sQXFbwu"
      },
      "execution_count": null,
      "outputs": []
    },
    {
      "cell_type": "markdown",
      "source": [
        "10.A great number is a number whose sum of digits let (m) and product of digits let(j) when summed together gives the number back"
      ],
      "metadata": {
        "id": "L7lTe3FwFd-t"
      }
    },
    {
      "cell_type": "code",
      "source": [
        "num=input()\n",
        "x=[int(a) for a in str(num)]\n",
        "y=int(num)\n",
        "m=x[0]+x[1]\n",
        "j=x[0]*x[1]\n",
        "k=m+j\n",
        "if(k==y):\n",
        "   print(\"Great\")\n",
        "else:\n",
        "   print(\"no\")"
      ],
      "metadata": {
        "id": "U8QhQo23Fnsl"
      },
      "execution_count": null,
      "outputs": []
    },
    {
      "cell_type": "markdown",
      "source": [
        "11.Given a number N, print 'yes' if it is a multiple of 13 else print 'no'.\n",
        "Sample Testcase :\n",
        "INPUT\n",
        "26\n",
        "OUTPUT\n",
        "yes"
      ],
      "metadata": {
        "id": "1Rzrsd36FqNl"
      }
    },
    {
      "cell_type": "code",
      "source": [
        "n=int(input())\n",
        "if (n%13==0):\n",
        "    print(\"yes\")\n",
        "else:\n",
        "    print(\"no\")"
      ],
      "metadata": {
        "id": "UOdFY6uQFuys"
      },
      "execution_count": null,
      "outputs": []
    },
    {
      "cell_type": "markdown",
      "source": [
        "12.Given 2 numbers N,M. Print 'yes' if their product is a perfect square else print 'no'.\n",
        "Sample Testcase :\n",
        "INPUT\n",
        "5 5\n",
        "OUTPUT\n",
        "yes"
      ],
      "metadata": {
        "id": "enh2pl4iFxVQ"
      }
    },
    {
      "cell_type": "code",
      "source": [
        "import math\n",
        "N,M = map (int,input( ).split( ))\n",
        "x=math.sqrt(N)\n",
        "y=math.sqrt(M)\n",
        "if(x%y==0):\n",
        "    print(\"yes\")\n",
        "else:\n",
        "    print(\"no\")"
      ],
      "metadata": {
        "id": "Jb_1nHTqF1yf"
      },
      "execution_count": null,
      "outputs": []
    },
    {
      "cell_type": "markdown",
      "source": [
        "13.Given a number N, print yes if the number is a multiple of 7 else print no.\n",
        "Sample Testcase :\n",
        "INPUT\n",
        "49\n",
        "OUTPUT\n",
        "yes"
      ],
      "metadata": {
        "id": "40r1O0-OF31Q"
      }
    },
    {
      "cell_type": "code",
      "source": [
        "num=int(input())\n",
        "if(num%7==0):\n",
        "    print(\"yes\")\n",
        "else:\n",
        "    print(\"no\")"
      ],
      "metadata": {
        "id": "AaVMxy-2F8x1"
      },
      "execution_count": null,
      "outputs": []
    },
    {
      "cell_type": "markdown",
      "source": [
        "14.Count the number of digits of a given number N.Size of the integer ranges from 1Sample Testcases :\n",
        "INPUT\n",
        "548\n",
        "OUTPUT\n",
        "3"
      ],
      "metadata": {
        "id": "_6iPEKoqF_AD"
      }
    },
    {
      "cell_type": "code",
      "source": [
        "n=int(input())\n",
        "count=0\n",
        "while n!=0:\n",
        "    n//=10\n",
        "    count+=1\n",
        "print(count)    \n",
        "    "
      ],
      "metadata": {
        "id": "EB0c0232F-om"
      },
      "execution_count": null,
      "outputs": []
    },
    {
      "cell_type": "markdown",
      "source": [
        "15.Print the minimum element\n",
        "\n",
        "Sample Input :\n",
        "5\n",
        "3 4 9 1 6\n",
        "Sample Output :\n",
        "1"
      ],
      "metadata": {
        "id": "BFaFkbeyGG8y"
      }
    },
    {
      "cell_type": "code",
      "source": [
        "n=int(input())\n",
        "a=list(map(int,input().split()))\n",
        "c=min(a)\n",
        "print(c)\n"
      ],
      "metadata": {
        "id": "ykYy_GepGLPI"
      },
      "execution_count": null,
      "outputs": []
    },
    {
      "cell_type": "markdown",
      "source": [
        "16.Given a number N, print the product of the digits.\n",
        "Input Size : N <= 100000000000\n",
        "Sample Testcase :\n",
        "INPUT\n",
        "2143\n",
        "OUTPUT\n",
        "24"
      ],
      "metadata": {
        "id": "5JxH0Lq9GPI8"
      }
    },
    {
      "cell_type": "code",
      "source": [
        "\n",
        "n=int(input())\n",
        "pro=1\n",
        "while n!=0:\n",
        "    pro=pro*(n%10)\n",
        "    n//=10\n",
        "    \n",
        "print(pro) \n",
        "    "
      ],
      "metadata": {
        "id": "cW1cGsz4GVqn"
      },
      "execution_count": null,
      "outputs": []
    },
    {
      "cell_type": "markdown",
      "source": [
        "17.Given a number N, find its next immediate greater power of 2(i.e 2^1, 2^2, 2^3...).\n",
        "Input Size : N <= 1000\n",
        "Sample Testcase :\n",
        "INPUT\n",
        "4\n",
        "OUTPUT\n",
        "8"
      ],
      "metadata": {
        "id": "eKO_QzucGYFH"
      }
    },
    {
      "cell_type": "code",
      "source": [
        "import math\n",
        "n=int(input())\n",
        "print(n*2)"
      ],
      "metadata": {
        "id": "0K-lDUQaGc31"
      },
      "execution_count": null,
      "outputs": []
    },
    {
      "cell_type": "markdown",
      "source": [
        "18.Your task is to tell whether numbers is co prime or not. If it is a co-prime print 1 else 0\n",
        "\n",
        "Sample Input :\n",
        "3 5\n",
        "Sample Output :\n",
        "1"
      ],
      "metadata": {
        "id": "ZsQ3fEiwGfcE"
      }
    },
    {
      "cell_type": "code",
      "source": [
        "import math\n",
        "n,a=map(int,input().split())\n",
        "if (math.gcd(a,n)==1):\n",
        "    print(1)\n",
        "else:\n",
        "    print(0)"
      ],
      "metadata": {
        "id": "mVa_COaMGmB3"
      },
      "execution_count": null,
      "outputs": []
    },
    {
      "cell_type": "markdown",
      "source": [
        "19.import math\n",
        "n,a=map(int,input().split())\n",
        "if (math.gcd(a,n)==1):\n",
        "    print(1)\n",
        "else:\n",
        "    print(0)"
      ],
      "metadata": {
        "id": "caVc4ayJGoeC"
      }
    },
    {
      "cell_type": "code",
      "source": [
        "import math\n",
        "n,a=map(int,input().split())\n",
        "if (math.gcd(a,n)==1):\n",
        "    print(1)\n",
        "else:\n",
        "    print(0)"
      ],
      "metadata": {
        "id": "Ni6kvqGKGs4S"
      },
      "execution_count": null,
      "outputs": []
    },
    {
      "cell_type": "markdown",
      "source": [
        "20.Print the nth number of series\n",
        "\n",
        "Sample Input :\n",
        "5\n",
        "Sample Output :\n",
        "30"
      ],
      "metadata": {
        "id": "vtXfibCFGoal"
      }
    },
    {
      "cell_type": "code",
      "source": [
        "n=int(input())\n",
        "mul=n+1\n",
        "print(n*mul)"
      ],
      "metadata": {
        "id": "rcDrCMreGzxI"
      },
      "execution_count": null,
      "outputs": []
    },
    {
      "cell_type": "markdown",
      "source": [
        "21.Print the largest number\n",
        "\n",
        "Sample Input :\n",
        " I was born on 12 october 1998.\n",
        "Sample Output :\n",
        "1998"
      ],
      "metadata": {
        "id": "4cJ6ntdRG2Ek"
      }
    },
    {
      "cell_type": "code",
      "source": [
        "import re\n",
        "s=input( )\n",
        "a= max(map(int,re.findall(r\"(\\d+)\", s)))\n",
        "print(a)  "
      ],
      "metadata": {
        "id": "1iBHbU6uG6UC"
      },
      "execution_count": null,
      "outputs": []
    },
    {
      "cell_type": "markdown",
      "source": [
        "22.print the area of the farm upto 5 decimal decimals.\n",
        "Sample Testcase :\n",
        "INPUT\n",
        "1.626 2.31\n",
        "OUTPUT\n",
        "3.75606"
      ],
      "metadata": {
        "id": "ZUJJYHgDG8fb"
      }
    },
    {
      "cell_type": "code",
      "source": [
        "import math\n",
        "a,b=map(float,input().split())\n",
        "area=a*b\n",
        "y=str(area)\n",
        "print(y[ :8])"
      ],
      "metadata": {
        "id": "u7MPTekaHB3M"
      },
      "execution_count": null,
      "outputs": []
    },
    {
      "cell_type": "markdown",
      "source": [
        "23.Given a floating point number with 1 decimal place round it off to nearest greater integer and print it.\n",
        "Sample Testcase :\n",
        "INPUT\n",
        "2.6\n",
        "OUTPUT\n",
        "3"
      ],
      "metadata": {
        "id": "YQHfrfrQHECC"
      }
    },
    {
      "cell_type": "code",
      "source": [
        "import math\n",
        "n=float(input())\n",
        "print(math.ceil(n))"
      ],
      "metadata": {
        "id": "vYx2agBcHIqw"
      },
      "execution_count": null,
      "outputs": []
    },
    {
      "cell_type": "markdown",
      "source": [
        "24. Print 'yes' if N is between L and R else print 'no'.\n",
        "Sample Testcase :\n",
        "INPUT\n",
        "3\n",
        "2 6\n",
        "OUTPUT\n",
        "yes"
      ],
      "metadata": {
        "id": "CdqECap8HLPy"
      }
    },
    {
      "cell_type": "code",
      "source": [
        "N = int(input( ))\n",
        "L,R = map(int,input( ).split( ))\n",
        "if N in range(L,R):\n",
        "    print('yes')\n",
        "else:\n",
        "    print('no')"
      ],
      "metadata": {
        "id": "KwaMMJV9HPz1"
      },
      "execution_count": null,
      "outputs": []
    },
    {
      "cell_type": "markdown",
      "source": [
        "25. String is called true if weight of string is multiple of 8. Your task is to tell whether a string can be declared True or Not."
      ],
      "metadata": {
        "id": "IX-jOIbpHSFM"
      }
    },
    {
      "cell_type": "code",
      "source": [
        "a=input()\n",
        "sum=0\n",
        "for i in a:\n",
        "    a=ord(i)\n",
        "    sum=sum+a\n",
        "if sum==8:\n",
        "    print(1)\n",
        "else:\n",
        "    print(0)"
      ],
      "metadata": {
        "id": "iXBCrq-NHcbr"
      },
      "execution_count": null,
      "outputs": []
    },
    {
      "cell_type": "markdown",
      "source": [
        "26.Each output should be in seperate line.\n",
        "Sample Testcase :\n",
        "INPUT\n",
        "100 200\n",
        "OUTPUT\n",
        "100"
      ],
      "metadata": {
        "id": "pMCOMFGSHljx"
      }
    },
    {
      "cell_type": "code",
      "source": [
        "a,b=map(int,input( ).split( ))\n",
        "if b>a:\n",
        "    print(b-a)"
      ],
      "metadata": {
        "id": "UpYMNW8ZHwH0"
      },
      "execution_count": null,
      "outputs": []
    },
    {
      "cell_type": "markdown",
      "source": [
        "27. print its factors.\n",
        "Input Size : n<=1000\n",
        "Sample Testcase :\n",
        "INPUT\n",
        "6\n",
        "OUTPUT\n",
        "1 2 3 6"
      ],
      "metadata": {
        "id": "T2EaLEAuHymv"
      }
    },
    {
      "cell_type": "code",
      "source": [
        "num=int(input())\n",
        "factors=[]\n",
        "for i in range(1,num+1):\n",
        "    if num%i==0:\n",
        "       factors.append(i)\n",
        "\n",
        "print (*factors)"
      ],
      "metadata": {
        "id": "ft51DALnH4kB"
      },
      "execution_count": null,
      "outputs": []
    },
    {
      "cell_type": "markdown",
      "source": [
        "28. Print 'yes' if it is prime else print 'no'.\n",
        "Sample Testcase :\n",
        "INPUT\n",
        "123\n",
        "OUTPUT\n",
        "no"
      ],
      "metadata": {
        "id": "0vabXqQmH6-P"
      }
    },
    {
      "cell_type": "code",
      "source": [
        "number = int(input())\n",
        "\n",
        "# prime number is always greater than 1\n",
        "if number > 1:\n",
        "    for i in range(2, number):\n",
        "        if (number % i) == 0:\n",
        "            print(\"no\")\n",
        "            break\n",
        "    else:\n",
        "        print(\"yes\")"
      ],
      "metadata": {
        "id": "jblzeT7IH_vU"
      },
      "execution_count": null,
      "outputs": []
    },
    {
      "cell_type": "markdown",
      "source": [
        "29., print its reverse.\n",
        "Input Size : n <= 1000\n",
        "Sample Testcase :\n",
        "INPUT\n",
        "10\n",
        "OUTPUT\n",
        "1"
      ],
      "metadata": {
        "id": "21CNxxjyIC-L"
      }
    },
    {
      "cell_type": "code",
      "source": [
        "import re\n",
        "regex = \"^0+(?!$)\"\n",
        "number = int(input())\n",
        "a=str(number)\n",
        "b=a[::-1]\n",
        "b = re.sub(regex, \"\", b)\n",
        "print(b)"
      ],
      "metadata": {
        "id": "n2BhCLRLIKJ0"
      },
      "execution_count": null,
      "outputs": []
    },
    {
      "cell_type": "markdown",
      "source": [
        "30.print the sum of the first K natural numbers.\n",
        "Input Size : n <= 100000\n",
        "Sample Testcase :\n",
        "INPUT\n",
        "3\n",
        "OUTPUT\n",
        "6"
      ],
      "metadata": {
        "id": "0mpCoJXUIMza"
      }
    },
    {
      "cell_type": "code",
      "source": [
        "num = int(input( ))\n",
        "sum =0\n",
        "for i in range(num+1):\n",
        "    sum =sum+i\n",
        "print(sum)    \n",
        "    "
      ],
      "metadata": {
        "id": "T-lv1fmIIS6M"
      },
      "execution_count": null,
      "outputs": []
    }
  ]
}