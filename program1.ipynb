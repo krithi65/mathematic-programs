{
  "nbformat": 4,
  "nbformat_minor": 0,
  "metadata": {
    "colab": {
      "name": "program1.ipynb",
      "provenance": [],
      "authorship_tag": "ABX9TyPMIkjzoDORxFjZ35BOA9eS",
      "include_colab_link": true
    },
    "kernelspec": {
      "name": "python3",
      "display_name": "Python 3"
    },
    "language_info": {
      "name": "python"
    }
  },
  "cells": [
    {
      "cell_type": "markdown",
      "metadata": {
        "id": "view-in-github",
        "colab_type": "text"
      },
      "source": [
        "<a href=\"https://colab.research.google.com/github/krithi65/mathematic-programs/blob/main/program1.ipynb\" target=\"_parent\"><img src=\"https://colab.research.google.com/assets/colab-badge.svg\" alt=\"Open In Colab\"/></a>"
      ]
    },
    {
      "cell_type": "markdown",
      "source": [
        "31.Write a program to calculate the total surface area and volume of cuboid.Sample Testcase :\n",
        "INPUT\n",
        "1 2 3\n",
        "OUTPUT\n",
        "22 6"
      ],
      "metadata": {
        "id": "ZPtu8vJgIpJB"
      }
    },
    {
      "cell_type": "code",
      "source": [
        "l,w,h=map(int,input().split())\n",
        "tsa=2*(l*w)+2*(w*h)+2*(h*l)\n",
        "v=l*h*w\n",
        "print(tsa,v)"
      ],
      "metadata": {
        "id": "WKDUwnj3JAQ5"
      },
      "execution_count": null,
      "outputs": []
    },
    {
      "cell_type": "markdown",
      "source": [
        "32.A ‘majsetic’ array is an array whose sum of first three number is equal to last three number."
      ],
      "metadata": {
        "id": "gVIhVrBZJCsI"
      }
    },
    {
      "cell_type": "code",
      "source": [
        "\n",
        "n=int(input())\n",
        "b=list(map(int,input().split()))\n",
        "c1=b[:3]\n",
        "c2=b[-3:]\n",
        "if(sum(c1)==sum(c2)):\n",
        "   print(1) \n",
        "else:\n",
        "    print(0)\n"
      ],
      "metadata": {
        "id": "fWtw6f7zJJCy"
      },
      "execution_count": null,
      "outputs": []
    },
    {
      "cell_type": "markdown",
      "source": [
        "33.check whether the sum is odd or even.\n",
        "Sample Testcase :\n",
        "INPUT\n",
        "9 2\n",
        "OUTPUT\n",
        "odd"
      ],
      "metadata": {
        "id": "l9-WKRSWJL1P"
      }
    },
    {
      "cell_type": "code",
      "source": [
        "a,b = map(int,input( ).split( ))\n",
        "c =a+b\n",
        "if(c%2==0):\n",
        "    print(\"even\")\n",
        "else:\n",
        "    print(\"odd\")"
      ],
      "metadata": {
        "id": "EXblYZKuJWyC"
      },
      "execution_count": null,
      "outputs": []
    },
    {
      "cell_type": "markdown",
      "source": [
        "34.Given numbers A,B find A^B.\n",
        "Input Size : 1 <= A <= 5 <= B <= 50\n",
        "Sample Testcase :\n",
        "INPUT\n",
        "3 4\n",
        "OUTPUT\n",
        "81"
      ],
      "metadata": {
        "id": "9zGb9260JY4e"
      }
    },
    {
      "cell_type": "code",
      "source": [
        "a,b = map(int,input( ).split( ))\n",
        "print(pow(a,b))"
      ],
      "metadata": {
        "id": "k4j2jABNJeHf"
      },
      "execution_count": null,
      "outputs": []
    },
    {
      "cell_type": "markdown",
      "source": [
        "35.,print the number of repetition of K otherwise print '-1' if the element not found.\n",
        "Sample Testcase :\n",
        "INPUT\n",
        "6 2\n",
        "1 2 3 5 7 8\n",
        "OUTPUT\n",
        "0"
      ],
      "metadata": {
        "id": "bR6B_xCNJhMs"
      }
    },
    {
      "cell_type": "code",
      "source": [
        "list = list(map(int,input( ).split( )))\n",
        "counts = {item:list.count(item) for item in list}\n",
        "if (len(counts)>=len(list)):\n",
        "   print(0)\n",
        "else:\n",
        "   print(-1)"
      ],
      "metadata": {
        "id": "LY-OGAgfJlpt"
      },
      "execution_count": null,
      "outputs": []
    },
    {
      "cell_type": "markdown",
      "source": [
        "36.Given the values of a,b and x in the equation ax + b = y. Find the value of y.\n",
        "Sample Testcase :\n",
        "INPUT\n",
        "3 5 2\n",
        "OUTPUT\n",
        "11"
      ],
      "metadata": {
        "id": "UH2CNVqFJosk"
      }
    },
    {
      "cell_type": "code",
      "source": [
        "a,b,x=map(int,input().split())\n",
        "p=a*x\n",
        "y=p+b\n",
        "print(y)"
      ],
      "metadata": {
        "id": "U5nJaDGGJ0On"
      },
      "execution_count": null,
      "outputs": []
    },
    {
      "cell_type": "markdown",
      "source": [
        "37.Given a number N, print 'yes' if it is composite else print 'no'.\n",
        "Sample Testcase :\n",
        "INPUT\n",
        "123\n",
        "OUTPUT\n",
        "yes"
      ],
      "metadata": {
        "id": "drkCKOfKJ2Xp"
      }
    },
    {
      "cell_type": "code",
      "source": [
        "num = int(input( ))\n",
        "count = 0\n",
        "\n",
        "for i in range(1, num+1):\n",
        "    if(num % i == 0):\n",
        "        count += 1\n",
        "\n",
        "if(count > 2):\n",
        "   print(\"yes\")\n",
        "else:\n",
        "   print(\"no\")"
      ],
      "metadata": {
        "id": "r5PeJJUkKIX6"
      },
      "execution_count": null,
      "outputs": []
    },
    {
      "cell_type": "markdown",
      "source": [
        "38.Print the minimum element\n",
        "\n",
        "Sample Input :\n",
        "5\n",
        "3 4 9 1 6\n",
        "Sample Output :\n",
        "1"
      ],
      "metadata": {
        "id": "myrb3fJMKMlj"
      }
    },
    {
      "cell_type": "code",
      "source": [
        "n=int(input())\n",
        "arr=list(map(int,input().split()))\n",
        "print(min(arr))"
      ],
      "metadata": {
        "id": "2oYkySc5KTh_"
      },
      "execution_count": null,
      "outputs": []
    },
    {
      "cell_type": "markdown",
      "source": [
        "39. count the number of prime numbers in the range (inclusive of L and R ).\n",
        "Input Size : L <= R <= 100000(complexity O(n) read about Sieve of Eratosthenes)\n",
        "Sample Testcase :\n",
        "INPUT\n",
        "2 5\n",
        "OUTPUT\n",
        "3"
      ],
      "metadata": {
        "id": "8nOlC_dPKV0q"
      }
    },
    {
      "cell_type": "code",
      "source": [
        "a,b = map(int,input( ).split( ))\n",
        "r =0\n",
        "for i in range(a,b+1):\n",
        "    if i % 2!=0 and i!=9:\n",
        "        r += 1\n",
        "if b % 2!=0:\n",
        "   r += 1\n",
        "   \n",
        "print(r)   \n",
        " "
      ],
      "metadata": {
        "id": "Y_o2ojMLKfMH"
      },
      "execution_count": null,
      "outputs": []
    },
    {
      "cell_type": "markdown",
      "source": [
        "40.find the sum of all the negative numbers in the array.\n",
        "Input Size : N <= 100000\n",
        "Sample Testcase :\n",
        "INPUT\n",
        "2\n",
        "3 0\n",
        "OUTPUT\n",
        "0"
      ],
      "metadata": {
        "id": "uwJfxIqzKhje"
      }
    },
    {
      "cell_type": "code",
      "source": [
        "num=int(input())\n",
        "arr=list(map(int,input().split()))\n",
        "sum=0\n",
        "for i in arr:\n",
        "    if i<0:\n",
        "     sum+=i\n",
        "print(sum)\n",
        "    "
      ],
      "metadata": {
        "id": "GNzJAX0-Km2L"
      },
      "execution_count": null,
      "outputs": []
    },
    {
      "cell_type": "markdown",
      "source": [
        "41.Given a string S.Validate if a given string is numeric.print 'yes' if it is a numeric otherwise print 'no'.\n",
        "Sample Testcase :\n",
        "INPUT\n",
        "guvigeeks\n",
        "OUTPUT\n",
        "no"
      ],
      "metadata": {
        "id": "kv-ZRmjEKpAQ"
      }
    },
    {
      "cell_type": "code",
      "source": [
        "n=input()\n",
        "if(n.isnumeric()==False):\n",
        "    print(\"no\")\n",
        "else:\n",
        "    print(\"yes\")"
      ],
      "metadata": {
        "id": "EvsXJw01KxHe"
      },
      "execution_count": null,
      "outputs": []
    },
    {
      "cell_type": "markdown",
      "source": [
        "42..Validate if a given string is numeric.print 'yes' if it is a numeric otherwise print 'no'.\n",
        "Sample Testcase :\n",
        "INPUT\n",
        "guvigeeks\n",
        "OUTPUT\n",
        "no"
      ],
      "metadata": {
        "id": "x8QWIU3iKzZH"
      }
    },
    {
      "cell_type": "code",
      "source": [
        "n=input()\n",
        "if(n.isnumeric()==False):\n",
        "    print(\"no\")\n",
        "else:\n",
        "    print(\"yes\")"
      ],
      "metadata": {
        "id": "pgcW0l2CK97y"
      },
      "execution_count": null,
      "outputs": []
    },
    {
      "cell_type": "markdown",
      "source": [
        "43.check whether they lie on the same line.If they lie on the same line print 'yes' Otherwise print 'no'.\n",
        "Sample Testcase :\n",
        "INPUT\n",
        "0 1\n",
        "0 0\n",
        "0 2\n",
        "OUTPUT\n",
        "ye"
      ],
      "metadata": {
        "id": "ruxnHj4qLAlY"
      }
    },
    {
      "cell_type": "code",
      "source": [
        "x1,y1=map(int,input().split())\n",
        "x2,y2=map(int,input().split())\n",
        "x3,y3=map(int,input().split())\n",
        "a = x1 * (y2 - y3) + x2 * (y3 - y1) + x3 * (y1 - y2)\n",
        "if (a == 0):\n",
        "    print (\"yes\")\n",
        "else:\n",
        "    print (\"no\")"
      ],
      "metadata": {
        "id": "n_XG4JKOLF5F"
      },
      "execution_count": null,
      "outputs": []
    },
    {
      "cell_type": "markdown",
      "source": [
        "44.Given base(B) and height(H) of a triangle find its area.\n",
        "Input Size : N <= 1000000\n",
        "Sample Testcase :\n",
        "INPUT\n",
        "2 4\n",
        "OUTPUT\n",
        "4"
      ],
      "metadata": {
        "id": "IcAXfXiSLLW-"
      }
    },
    {
      "cell_type": "code",
      "source": [
        "b,h = map(int,input( ).split( ))\n",
        "area = 0.5*b*h\n",
        "print(area)"
      ],
      "metadata": {
        "id": "MXudGVOMLQeL"
      },
      "execution_count": null,
      "outputs": []
    },
    {
      "cell_type": "markdown",
      "source": [
        "45.find the factorial of N.\n",
        "Input Size : 1 <= N <= 25\n",
        "Sample Testcase :\n",
        "INPUT\n",
        "5\n",
        "OUTPUT\n",
        "120"
      ],
      "metadata": {
        "id": "81K9urztLSzd"
      }
    },
    {
      "cell_type": "code",
      "source": [
        "n=int(input())\n",
        "fact=1\n",
        "if n<0:\n",
        "    print(-1)\n",
        "elif n==0:\n",
        "    print(1)\n",
        "else:\n",
        "    for i in range(1,n+1):\n",
        "        fact=fact*i\n",
        "    print(fact)"
      ],
      "metadata": {
        "id": "cZK2T-ZKLXcL"
      },
      "execution_count": null,
      "outputs": []
    },
    {
      "cell_type": "markdown",
      "source": [
        "46.print the value of nCk(C-Combination).\n",
        "Input Size : K <= N <= 10\n",
        "Sample Testcase :\n",
        "INPUT\n",
        "5 2\n",
        "OUTPUT\n",
        "10"
      ],
      "metadata": {
        "id": "w_QgZzwjLZ-P"
      }
    },
    {
      "cell_type": "code",
      "source": [
        "import math\n",
        "\n",
        "def nCr(n,r):\n",
        "    f = math.factorial\n",
        "    return f(n) / f(r) / f(n-r)\n",
        "\n",
        "n,r=map(int,input().split())    \n",
        "print (round(nCr(n,r)))"
      ],
      "metadata": {
        "id": "swA2gyCBLhrX"
      },
      "execution_count": null,
      "outputs": []
    },
    {
      "cell_type": "markdown",
      "source": [
        "47. find the sum of Arithmetic Series with a=A, d=B and n=C\n",
        "Sample Testcase :\n",
        "INPUT\n",
        "1 1 2\n",
        "OUTPUT\n",
        "3"
      ],
      "metadata": {
        "id": "Tv-nSvS5Lj_Y"
      }
    },
    {
      "cell_type": "code",
      "source": [
        "a,d,n=map(int,input().split())\n",
        "sum= ((n / 2) * (2 * a + (n - 1) * d))\n",
        "print(round(sum))"
      ],
      "metadata": {
        "id": "-d0VrVPvLodK"
      },
      "execution_count": null,
      "outputs": []
    },
    {
      "cell_type": "markdown",
      "source": [
        "48.Given 2 numbers N,M find the GCD of N and M.If it cannot be found for given number(s) then print -1\n",
        "Sample Testcase :\n",
        "INPUT\n",
        "10 5\n",
        "OUTPUT\n",
        "5"
      ],
      "metadata": {
        "id": "5n0iz41xLqs9"
      }
    },
    {
      "cell_type": "code",
      "source": [
        "import math\n",
        "a,b=map(int,input( ).split( ))\n",
        "if(b==0):\n",
        "    print(-1)\n",
        "elif(a>b):\n",
        "    print(math.gcd(a, b))\n"
      ],
      "metadata": {
        "id": "BLTMpfc5LwHL"
      },
      "execution_count": null,
      "outputs": []
    },
    {
      "cell_type": "markdown",
      "source": [
        "49.Given an array of N elements switch(swap) the element with the adjacent element and print the output.\n",
        "Sample Testcase :\n",
        "INPUT\n",
        "5\n",
        "3 2 1 2 3\n",
        "OUTPUT\n",
        "2 3 2 1 3"
      ],
      "metadata": {
        "id": "LNdUMO4QLy-l"
      }
    },
    {
      "cell_type": "code",
      "source": [
        "n=int(input( ))\n",
        "data = list(map(int,input( ).split( )))\n",
        "i = 0\n",
        "while i < data.__len__()-1:\n",
        "    t = data[i]\n",
        "    data[i] = data[i + 1]\n",
        "    data[i + 1] = t\n",
        "    i = i + 2\n",
        "print(*data)"
      ],
      "metadata": {
        "id": "EXssttB4L41L"
      },
      "execution_count": null,
      "outputs": []
    },
    {
      "cell_type": "markdown",
      "source": [
        "50.decimal convert it into binary value.\n",
        "Input Size : N <= 100000\n",
        "Sample Testcase :\n",
        "INPUT\n",
        "5\n",
        "OUTPUT\n",
        "101"
      ],
      "metadata": {
        "id": "GadwelbSL7MB"
      }
    },
    {
      "cell_type": "code",
      "source": [
        "def decimalToBinary(n):\n",
        "\treturn \"{0:b}\".format(int(n))\n",
        "\n",
        "n=int(input())\n",
        "print(decimalToBinary(n))\n",
        "\t\n"
      ],
      "metadata": {
        "id": "YR0YRD_nMBqx"
      },
      "execution_count": null,
      "outputs": []
    },
    {
      "cell_type": "markdown",
      "source": [
        "51.Given a number N in binary format convert it to decimal number.\n",
        "Input Size : N <= 100000\n",
        "Sample Testcase :\n",
        "INPUT\n",
        "101\n",
        "OUTPUT\n",
        "5"
      ],
      "metadata": {
        "id": "GqzKX_7VMElk"
      }
    },
    {
      "cell_type": "code",
      "source": [
        "def binaryToDecimal(n):\n",
        "    return int(n,2)\n",
        " \n",
        " \n",
        "n=input()\n",
        "print(binaryToDecimal(n))\n",
        "    "
      ],
      "metadata": {
        "id": "DN9f2pDJMJK6"
      },
      "execution_count": null,
      "outputs": []
    },
    {
      "cell_type": "markdown",
      "source": [
        "52. Find their difference and check whether it is even or odd.\n",
        "Sample Testcase :\n",
        "INPUT\n",
        "5 5\n",
        "OUTPUT\n",
        "even"
      ],
      "metadata": {
        "id": "BUZEQyueMMcH"
      }
    },
    {
      "cell_type": "code",
      "source": [
        "n,m=map(int,input().split())\n",
        "p=(n-m)\n",
        "if p%2==0:\n",
        "    print(\"even\")\n",
        "else:\n",
        "    print(\"odd\")"
      ],
      "metadata": {
        "id": "QMf35EA2MLgc"
      },
      "execution_count": null,
      "outputs": []
    },
    {
      "cell_type": "markdown",
      "source": [
        "53.Print the position of first 1 from right to left, in binary representation of an Integer.\n",
        "Sample Testcase :\n",
        "INPUT\n",
        "18\n",
        "OUTPUT\n",
        "2"
      ],
      "metadata": {
        "id": "yt4QyqZbMUtO"
      }
    },
    {
      "cell_type": "code",
      "source": [
        "import math\n",
        "n=int(input())\n",
        "res=math.log2(n&-n)+1\n",
        "print(round(res))"
      ],
      "metadata": {
        "id": "If9HWlflMhBj"
      },
      "execution_count": null,
      "outputs": []
    },
    {
      "cell_type": "markdown",
      "source": [
        "54.Given a number N, check whether it is a power of 2.\n",
        "Sample Testcase :\n",
        "INPUT\n",
        "2048\n",
        "OUTPUT\n",
        "yes"
      ],
      "metadata": {
        "id": "P7EvKSLoMjq5"
      }
    },
    {
      "cell_type": "code",
      "source": [
        "n = int(input())\n",
        "if '1' in list(bin(n))[3:]: #also can use if '1' in bin(n)[3:]  OR can also use format(n, 'b')[1:]\n",
        "    print(\"no\")\n",
        "else:\n",
        "    print(\"yes\")"
      ],
      "metadata": {
        "id": "Sa7jgSZ9MqUD"
      },
      "execution_count": null,
      "outputs": []
    },
    {
      "cell_type": "markdown",
      "source": [
        "55. find the greatest number which divides both.\n",
        "Input Size : N and K <= 100000\n",
        "Sample Testcase :\n",
        "INPUT\n",
        "5 10\n",
        "OUTPUT\n",
        "5"
      ],
      "metadata": {
        "id": "_JqLswknMsrg"
      }
    },
    {
      "cell_type": "code",
      "source": [
        "\n",
        "import math\n",
        "a,b=map(int,input().split())\n",
        "print(math.gcd(a,b))"
      ],
      "metadata": {
        "id": "sl7cWBDMMw7E"
      },
      "execution_count": null,
      "outputs": []
    },
    {
      "cell_type": "markdown",
      "source": [
        "56.print 'yes' if they can form the sides of a right angled triangle,otherwise 'no'.\n",
        "Input Size : A,B,C <= 100000\n",
        "Sample Testcase :\n",
        "INPUT\n",
        "3 4 5\n",
        "OUTPUT\n",
        "yes"
      ],
      "metadata": {
        "id": "ryoMBiROMsoK"
      }
    },
    {
      "cell_type": "code",
      "source": [
        "a,b,c = map(int,input( ).split( ))\n",
        "if(a**2+c**2==b**2 or b**2+c**2==a**2 or a**2+b**2==c**2):\n",
        "    print(\"yes\")\n",
        "else:\n",
        "    print(\"no\")\n",
        "    "
      ],
      "metadata": {
        "id": "r3EubPerM51T"
      },
      "execution_count": null,
      "outputs": []
    },
    {
      "cell_type": "markdown",
      "source": [
        "57., print the sum of squares of all its digits.\n",
        "Input Size : 1 <= N <= 100000\n",
        "Sample Testcase :\n",
        "INPUT\n",
        "12\n",
        "OUTPUT\n",
        "5"
      ],
      "metadata": {
        "id": "eEGltIaSM8NS"
      }
    },
    {
      "cell_type": "code",
      "source": [
        "\n",
        "num = int(input())\n",
        "\n",
        "sum = 0\n",
        "while num!=0:\n",
        "    rem = num%10\n",
        "    sqr = rem*rem\n",
        "    sum = sum+sqr\n",
        "    num = int(num/10)\n",
        "print(sum)"
      ],
      "metadata": {
        "id": "5sIoNY9NNAzJ"
      },
      "execution_count": null,
      "outputs": []
    },
    {
      "cell_type": "markdown",
      "source": [
        "58. check if it is a power of 2.Print 'yes' if it is a power of 2 otherwise print 'no'.\n",
        "Input Size : 1 <= N <= 100000\n",
        "Sample Testcase :\n",
        "INPUT\n",
        "64\n",
        "OUTPUT\n",
        "yes"
      ],
      "metadata": {
        "id": "jJ76HoTsNDQg"
      }
    },
    {
      "cell_type": "code",
      "source": [
        "n = int(input())\n",
        "if '1' in list(bin(n))[3:]: #also can use if '1' in bin(n)[3:]  OR can also use format(n, 'b')[1:]\n",
        "    print(\"no\")\n",
        "else:\n",
        "    print(\"yes\")"
      ],
      "metadata": {
        "id": "GEHhFkXkNKDT"
      },
      "execution_count": null,
      "outputs": []
    },
    {
      "cell_type": "markdown",
      "source": [
        "59.A number is given as input.Find the maximum number that can be formed using the digits.\n",
        "Input Size : N <= 10000000\n",
        "Sample Testcase :\n",
        "INPUT\n",
        "4123\n",
        "OUTPUT\n",
        "4321"
      ],
      "metadata": {
        "id": "2xAWigCMNQfJ"
      }
    },
    {
      "cell_type": "code",
      "source": [
        "# vowels list\n",
        "n=input()\n",
        "values=list(n)\n",
        "# sort the vowels\n",
        "values.sort(reverse=True)\n",
        "\n",
        "# print vowels\n",
        "new_s = \"\".join(values)\n",
        "print(new_s)"
      ],
      "metadata": {
        "id": "4-zaEa1DNXP4"
      },
      "execution_count": null,
      "outputs": []
    },
    {
      "cell_type": "markdown",
      "source": [
        "60.Given 3 numbers A,B,C process and print 'yes' if they can form the sides of a triangle otherwise print 'no'.\n",
        "Input Size : A,B,C <= 100000\n",
        "Sample Testcase :\n",
        "INPUT\n",
        "3 4 5\n",
        "OUTPUT\n",
        "yes"
      ],
      "metadata": {
        "id": "_SA_8TuaNZ_v"
      }
    },
    {
      "cell_type": "code",
      "source": [
        "a,b,c=map(int,input( ).split( ))\n",
        "if(a+b>c and c+b>a and a+c>b):\n",
        "    print(\"yes\")\n",
        "else:\n",
        "    print(\"no\")"
      ],
      "metadata": {
        "id": "fz4nkH04NZiD"
      },
      "execution_count": null,
      "outputs": []
    },
    {
      "cell_type": "markdown",
      "source": [
        "61.An ‘ajs’ number is a number whose sum of first two digits is present in given number ‘n’"
      ],
      "metadata": {
        "id": "xZmlvHIbNhix"
      }
    },
    {
      "cell_type": "code",
      "source": [
        "n=input()\n",
        "a=list(str(n)[:2])\n",
        "b1=int(a[0])\n",
        "b2=int(a[1])\n",
        "sum=b1+b2\n",
        "if str(sum) in str(n):\n",
        "   print(1)\n",
        "else:\n",
        "    print(0)"
      ],
      "metadata": {
        "id": "CvubmIogNoJV"
      },
      "execution_count": null,
      "outputs": []
    }
  ]
}